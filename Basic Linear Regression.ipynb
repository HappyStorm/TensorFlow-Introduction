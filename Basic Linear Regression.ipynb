{
 "cells": [
  {
   "cell_type": "markdown",
   "metadata": {},
   "source": [
    "## Basic Linear Regression\n",
    "------------------------------\n",
    "The following examples (tutorials) are from TensorFlow official website [here](https://www.tensorflow.org/get_started/get_started)."
   ]
  },
  {
   "cell_type": "markdown",
   "metadata": {},
   "source": [
    "* ### Basic Linear Regression (low-level)\n",
    "* ------------------------------\n",
    "> References (ordered by the following codes):\n",
    "> * [Variables](https://www.tensorflow.org/api_docs/python/tf/Variable)\n",
    "> * [PlaceHolder](https://www.tensorflow.org/api_docs/python/tf/placeholder)\n",
    "> * [tf.reduce_sum](https://www.tensorflow.org/api_docs/python/tf/reduce_sum)\n",
    "> * [tf.train.GradientDescentOptimizer](https://www.tensorflow.org/api_docs/python/tf/train/GradientDescentOptimizer)\n",
    "> * [Optimizers](https://www.tensorflow.org/versions/master/api_docs/python/train/)\n",
    "> * [tf.train.Optimizer.minimize](https://www.tensorflow.org/versions/master/api_docs/python/train/optimizers#Optimizer.minimize)\n",
    "> * [tf.global_variables_initializer](https://www.tensorflow.org/api_docs/python/tf/global_variables_initializer)\n",
    "> * [tf.Session.run](https://www.tensorflow.org/api_docs/python/tf/Session#run)"
   ]
  },
  {
   "cell_type": "code",
   "execution_count": 7,
   "metadata": {
    "collapsed": false
   },
   "outputs": [
    {
     "name": "stdout",
     "output_type": "stream",
     "text": [
      "W: [-0.9999969] b: [ 0.99999082] loss: 5.69997e-11\n"
     ]
    }
   ],
   "source": [
    "import numpy as np\n",
    "import tensorflow as tf\n",
    "\n",
    "\n",
    "# Model parameters\n",
    "# -------------------------------------------------------\n",
    "# Variables\n",
    "# __init__(initial_value=None, trainable=True, collections=None, validate_shape=True, caching_device=None, name=None, variable_def=None, dtype=None, expected_shape=None, import_scope=None)\n",
    "# shortcut version\n",
    "W = tf.Variable([.3], tf.float32)\n",
    "b = tf.Variable([-.3], tf.float32)\n",
    "\n",
    "# formal version\n",
    "# W = tf.Variable(initial_value=[.3], dtype=tf.float32)\n",
    "# b = tf.Variable(initial_value=[-.3], dtype=tf.float32)\n",
    "\n",
    "\n",
    "# Model input and output\n",
    "# -------------------------------------------------------\n",
    "# PlaceHolder\n",
    "# __init__(initial_value=None, name=None, dtype=None)\n",
    "# shortcut version\n",
    "x = tf.placeholder(tf.float32)\n",
    "y = tf.placeholder(tf.float32)\n",
    "\n",
    "# formal version\n",
    "# x = tf.placeholder(name='x', dtype=tf.float32)\n",
    "# y = tf.placeholder(name='y', dtype=tf.float32)\n",
    "\n",
    "linear_model = W * x + b\n",
    "\n",
    "\n",
    "# Loss\n",
    "# -------------------------------------------------------\n",
    "# tf.reduce_sum(input_tensor, axis=None, keep_dims=False, name=None, reduction_indices=None)\n",
    "# shortcut version\n",
    "loss = tf.reduce_sum(tf.square(linear_model - y)) # sum of the squares\n",
    "\n",
    "# formal version\n",
    "# loss = tf.reduce_sum(tf.square(linear_model - y), name='loss') # sum of the squares\n",
    "\n",
    "\n",
    "# Optimizer\n",
    "# -------------------------------------------------------\n",
    "# tf.train.GradientDescentOptimizer\n",
    "# __init__(learning_rate, use_locking=False, name='GradientDescent')\n",
    "# shortcut version\n",
    "optimizer = tf.train.GradientDescentOptimizer(0.01)\n",
    "\n",
    "# formal version\n",
    "# optimizer = tf.train.GradientDescentOptimizer(0.01, name='GradientDescent')\n",
    "\n",
    "# tf.train.Optimizer.minimize(loss, global_step=None, var_list=None, gate_gradients=1, aggregation_method=None, colocate_gradients_with_ops=False, name=None, grad_loss=None)\n",
    "# shortcut version\n",
    "train = optimizer.minimize(loss)\n",
    "\n",
    "# formal version\n",
    "# train = optimizer.minimize(loss, name='minimize')\n",
    "\n",
    "\n",
    "# Training Data\n",
    "# -------------------------------------------------------\n",
    "x_train = [1,2,3,4]\n",
    "y_train = [0,-1,-2,-3]\n",
    "\n",
    "\n",
    "# Training Loop\n",
    "init = tf.global_variables_initializer()\n",
    "sess = tf.Session()\n",
    "sess.run(init) # reset values to wrong\n",
    "\n",
    "\n",
    "# tf.Session.run(fetches, feed_dict=None, options=None, run_metadata=None)\n",
    "for i in range(1000):\n",
    "    sess.run(train, {x:x_train, y:y_train})\n",
    "\n",
    "\n",
    "# evaluate training accuracy\n",
    "curr_W, curr_b, curr_loss  = sess.run([W, b, loss], {x:x_train, y:y_train})\n",
    "print(\"W: %s b: %s loss: %s\"%(curr_W, curr_b, curr_loss))"
   ]
  },
  {
   "cell_type": "code",
   "execution_count": null,
   "metadata": {
    "collapsed": true
   },
   "outputs": [],
   "source": []
  }
 ],
 "metadata": {
  "kernelspec": {
   "display_name": "Python 3",
   "language": "python",
   "name": "python3"
  },
  "language_info": {
   "codemirror_mode": {
    "name": "ipython",
    "version": 3
   },
   "file_extension": ".py",
   "mimetype": "text/x-python",
   "name": "python",
   "nbconvert_exporter": "python",
   "pygments_lexer": "ipython3",
   "version": "3.5.2"
  }
 },
 "nbformat": 4,
 "nbformat_minor": 2
}
