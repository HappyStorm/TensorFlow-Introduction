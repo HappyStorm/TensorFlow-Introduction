{
 "cells": [
  {
   "cell_type": "markdown",
   "metadata": {},
   "source": [
    "### TensorFlow\n",
    "---\n",
    "> #### Tensor\n",
    "> ---\n",
    "> **Q**: What is \"**Tensor**\" ?\n",
    ">\n",
    ">> ***N-Dimensional Arrays***.\n",
    ">>\n",
    ">> We could easily understand **vector** is used to describe some attributes or store data in **1-D space**.  \n",
    ">> Also, **matrix** is the same with vector but used in **2-D space**.  \n",
    ">> So we can say that:\n",
    "   >> * **Vector** equals to  **1-D Tensor**\n",
    "   >> * **Matrix** equals to  **2-D Tensor**\n",
    ">\n",
    "> **Q**: Why we need \"**Tensor**\" ?\n",
    ">> Because modern deep learning process consists of flows of tensors, which means that the deep learning process \n",
    ">> is made by a sequence of tensor operations nowadays.\n",
    ">> And many machine learning algorithms adopt this concept too.  \n",
    ">> So maybe we could simply view \"**Tensor**\" as a data structure in nowadays deep learning or machine learning's\n",
    ">> framework.\n",
    "\n",
    "> #### Flow\n",
    "> ---\n",
    "> **Q**: What is \"**Flow**\" ?\n",
    ">> ***Process in the Data Flow Graph***.\n",
    "\n",
    ">> We could easily understand **vector** is used to describe some attributes or store data in **1-D space**.  \n",
    ">> Also, **matrix** is the same with vector but used in **2-D space**.  \n",
    ">> So we can say that:\n",
    "   >> * **Vector** equals to  **1-D Tensor**\n",
    "   >> * **Matrix** equals to  **2-D Tensor**"
   ]
  },
  {
   "cell_type": "markdown",
   "metadata": {},
   "source": [
    "### A simple ReLU network\n",
    "---\n",
    "The following figure shows the simple struture of part of the neural network,\n",
    "> ![simple ReLU network structure](./img/network.png)  \n",
    "\n",
    "As shown in the above figure, we could know that:  \n",
    "> * $ a_{1} = a_{0}w_{a,a} + b_{0}w_{b,a} + c_{0}w_{c,a} $  \n",
    "> * $ b_{1} = a_{0}w_{a,b} + b_{0}w_{b,b} + c_{0}w_{c,b} $  \n",
    "> * $ c_{1} = a_{0}w_{a,c} + b_{0}w_{b,c} + c_{0}w_{c,c} $  \n",
    "\n",
    "So we can apply ReLU activation function([wikipedia](https://en.wikipedia.org/wiki/Rectifier_(neural_networks), [tensorflow](https://www.tensorflow.org/api_docs/python/tf/nn/relu)) on $ a_{1}, b_{1}, c_{1} $ by both:\n",
    "\n",
    "> * Slower Approach: Per-Neuron Operation\n",
    "> * Faster Approach: Matrix Operation (more efficient)\n",
    "\n",
    "Since per-neuron approach is easy to be deduced, we only illustrate how matrix operation works:\n",
    "\n",
    "\n",
    "> #### 1. Import tensorflow\n",
    ">\n",
    "> ``` python\n",
    "> import tensorflow as tf\n",
    "> ```\n",
    "> \n",
    "> #### 2. Construct matrix\n",
    "> Treat $ a_{0}, b_{0}, c_{0} $ as matrix $ X $ and all the weights as matrix $ W $\n",
    "> ![matrix operation](./img/matrix_xw.png)  \n",
    "> \n",
    "> ``` python\n",
    "> y = tf.matmul(x, w)\n",
    "> ```\n",
    "> \n",
    "> ![relu function](./img/relu.png)  \n",
    "> ``` python\n",
    "> out = tf.nn.relu(y)\n",
    "> ```"
   ]
  },
  {
   "cell_type": "markdown",
   "metadata": {},
   "source": [
    "### How to define Tensors ?\n",
    "---\n",
    "Let's look some codes first:"
   ]
  },
  {
   "cell_type": "code",
   "execution_count": 28,
   "metadata": {
    "collapsed": true
   },
   "outputs": [],
   "source": [
    "import tensorflow as tf\n",
    "\n",
    "\n",
    "x = tf.random_normal([3, 3]) # build data matrix in shape (3, 3)\n",
    "\n",
    "w = tf.Variable(tf.random_normal([3, 3]), name='w') # construct weight matrix in shape (3, 3)\n",
    "\n",
    "y = tf.matmul(x, w) # define variable \"y\" as the result of the multiplication of matrix \"x\" and \"w\"\n",
    "\n",
    "relu_out = tf.nn.relu(y) # define variable \"relu_out\" as the output of activation function \"relu\" (input=y)"
   ]
  },
  {
   "cell_type": "markdown",
   "metadata": {},
   "source": [
    "[Variable](https://www.tensorflow.org/api_guides/python/state_ops) in the tensorflow stores the **state** of\n",
    "current execution (as **line 3** shown in the above cell).  \n",
    "Others are the operations (line 4, line 8, line 10)."
   ]
  },
  {
   "cell_type": "markdown",
   "metadata": {},
   "source": [
    "### Flow\n",
    "---\n",
    "**Q**: What is \"**Flow**\" ?\n",
    "> \n",
    "> * All the codes so far define a **Data Flow Graph** (as the following figure shows).\n",
    "> ![data-flow](./img/dataflow.png)\n",
    "> * Each [**Variable**](https://www.tensorflow.org/api_guides/python/state_ops) corresponds to a **Node** in the\n",
    "> graph, **Not Result !**\n",
    "> * Needs to specify how we want to execute the **Data Flow Graph**.\n",
    "> \n",
    "> #### [Session](https://www.tensorflow.org/api_guides/python/client)\n",
    "> ---\n",
    "> **Q**: What is \"**Tensor**\" ?"
   ]
  },
  {
   "cell_type": "markdown",
   "metadata": {},
   "source": []
  }
 ],
 "metadata": {
  "kernelspec": {
   "display_name": "Python 3",
   "language": "python",
   "name": "python3"
  },
  "language_info": {
   "codemirror_mode": {
    "name": "ipython",
    "version": 3
   },
   "file_extension": ".py",
   "mimetype": "text/x-python",
   "name": "python",
   "nbconvert_exporter": "python",
   "pygments_lexer": "ipython3",
   "version": "3.5.2"
  }
 },
 "nbformat": 4,
 "nbformat_minor": 2
}
