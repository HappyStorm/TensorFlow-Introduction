{
 "cells": [
  {
   "cell_type": "markdown",
   "metadata": {},
   "source": [
    "### Introduction\n",
    "----------------\n",
    "This is a modified version of Tensorflow's Tutorial: [MNIST For ML Beginners](https://www.tensorflow.org/get_started/mnist/beginners)."
   ]
  },
  {
   "cell_type": "markdown",
   "metadata": {},
   "source": [
    "### Data Description\n",
    "----------------\n",
    "* Training data is from **THE MNIST DATABASE of handwritten digits** (image + label = 60000 data): http://yann.lecun.com/exdb/mnist/\n",
    "  * [train-images-idx3-ubyte.gz](http://yann.lecun.com/exdb/mnist/train-images-idx3-ubyte.gz):  training set images (9912422 bytes) \n",
    "  * [train-labels-idx1-ubyte.gz](http://yann.lecun.com/exdb/mnist/train-images-idx3-ubyte.gz):  training set labels (28881 bytes)\n",
    "  \n",
    "\n",
    "* Testing Data:\n",
    "  * [t10k-images-idx3-ubyte.gz](http://yann.lecun.com/exdb/mnist/t10k-images-idx3-ubyte.gz): test set images (1648877 bytes) \n",
    "  * [t10k-labels-idx1-ubyte.gz](http://yann.lecun.com/exdb/mnist/t10k-labels-idx1-ubyte.gz): test set labels (4542 bytes)"
   ]
  },
  {
   "cell_type": "markdown",
   "metadata": {},
   "source": [
    "### References\n",
    "----------------\n",
    "Y. LeCun, L. Bottou, Y. Bengio, and P. Haffner. \"Gradient-based learning applied to document recognition.\" Proceedings of the IEEE, 86(11):2278-2324, November 1998. [[on-line version]](http://yann.lecun.com/exdb/publis/index.html#lecun-98)"
   ]
  },
  {
   "cell_type": "markdown",
   "metadata": {},
   "source": [
    "### API References\n",
    "----------------\n",
    "The following links are the API references (ordered by the code):\n",
    "* [np.fromfile](https://docs.scipy.org/doc/numpy/reference/generated/numpy.fromfile.html)\n",
    "* [fseek](https://www.tutorialspoint.com/python/file_seek.htm)\n",
    "* [fseek then fromfile](http://stackoverflow.com/questions/14245094/how-to-read-part-of-binary-file-with-numpy)\n",
    "* [np.reshape](https://docs.scipy.org/doc/numpy/reference/generated/numpy.reshape.html)\n",
    "* [show reshape image from np.ndarray](http://stackoverflow.com/questions/2659312/how-do-i-convert-a-numpy-array-to-and-display-an-image)\n",
    "* [numpy data types](https://docs.scipy.org/doc/numpy/user/basics.types.html)\n",
    "* [numpy.random.choice](https://docs.scipy.org/doc/numpy-dev/reference/generated/numpy.random.choice.html)\n",
    "* [numpy.mean](https://docs.scipy.org/doc/numpy/reference/generated/numpy.mean.html)"
   ]
  },
  {
   "cell_type": "code",
   "execution_count": 1,
   "metadata": {
    "collapsed": true
   },
   "outputs": [],
   "source": [
    "import numpy as np\n",
    "import tensorflow as tf\n",
    "\n",
    "\n",
    "def read_data(train_data_path, train_label_path,\n",
    "              test_data_path, test_label_path):\n",
    "    train_data, train_label = None, None\n",
    "    test_data, test_label = None, None\n",
    "    with open(train_data_path, 'rb') as f: # train data\n",
    "        f.seek(16)\n",
    "        train_data = np.fromfile(f, dtype=np.uint8)\n",
    "        train_data = np.reshape(train_data, (60000, 28, 28))\n",
    "    with open(train_label_path, 'rb') as f: # train label\n",
    "        f.seek(8)\n",
    "        train_label = np.fromfile(f, dtype=np.int8)\n",
    "    with open(test_data_path, 'rb') as f: # test data\n",
    "        f.seek(16)\n",
    "        test_data = np.fromfile(f, dtype=np.uint8)\n",
    "        test_data = np.reshape(test_data, (10000, 28, 28))\n",
    "    with open(test_label_path, 'rb') as f: # test label\n",
    "        f.seek(8)\n",
    "        test_label = np.fromfile(f, dtype=np.int8)   \n",
    "        \n",
    "    return train_data, train_label, test_data, test_label\n",
    "\n",
    "prefix = './MNIST-DATA/'\n",
    "train_images, train_labels, test_imgs, test_labels = read_data(prefix+'train-images-idx3-ubyte',\n",
    "                                                               prefix+'train-labels-idx1-ubyte',\n",
    "                                                               prefix+'t10k-images-idx3-ubyte',\n",
    "                                                               prefix+'t10k-labels-idx1-ubyte')"
   ]
  },
  {
   "cell_type": "code",
   "execution_count": 2,
   "metadata": {
    "collapsed": false
   },
   "outputs": [
    {
     "name": "stdout",
     "output_type": "stream",
     "text": [
      "(60000, 28, 28)\n",
      "(60000,)\n",
      "(10000, 28, 28)\n",
      "(10000,)\n"
     ]
    }
   ],
   "source": [
    "print(np.shape(train_images))\n",
    "print(np.shape(train_labels))\n",
    "print(np.shape(test_imgs))\n",
    "print(np.shape(test_labels))"
   ]
  },
  {
   "cell_type": "code",
   "execution_count": 3,
   "metadata": {
    "collapsed": false
   },
   "outputs": [],
   "source": [
    "import time\n",
    "\n",
    "# estimated elapsed time calculation\n",
    "# start = time.time()\n",
    "# end = time.time()\n",
    "# print(end - start)\n",
    "\n",
    "def gen_one_hot(labels, _class):\n",
    "    one_hot_labels = np.zeros(shape=(labels.shape[0], _class), dtype=np.int)\n",
    "    for index, label in enumerate(labels):\n",
    "        one_hot_labels[index] = [1 if i==label else 0 for i in range(_class)]\n",
    "    return one_hot_labels\n",
    "\n",
    "test = np.array(gen_one_hot(test_labels, 10))"
   ]
  }
 ],
 "metadata": {
  "kernelspec": {
   "display_name": "Python 3",
   "language": "python",
   "name": "python3"
  },
  "language_info": {
   "codemirror_mode": {
    "name": "ipython",
    "version": 3
   },
   "file_extension": ".py",
   "mimetype": "text/x-python",
   "name": "python",
   "nbconvert_exporter": "python",
   "pygments_lexer": "ipython3",
   "version": "3.5.2"
  }
 },
 "nbformat": 4,
 "nbformat_minor": 2
}
